{
 "cells": [
  {
   "cell_type": "markdown",
   "id": "07ff9662",
   "metadata": {},
   "source": [
    "# Indexes\n",
    "- Its something we can have to help us find things faster"
   ]
  },
  {
   "cell_type": "markdown",
   "id": "22c06efd",
   "metadata": {},
   "source": []
  },
  {
   "cell_type": "markdown",
   "id": "0d948279",
   "metadata": {},
   "source": [
    "why id has None in model defintiton id: int | None = Field(default=None, primary_key=True) ?\n",
    "\n",
    "Even if id is the primary key, in SQLAlchemy, it is common to make it nullable in the model definition. This is because:\n",
    "\n",
    "For new objects, you don't provide an id value upfront.\n",
    "\n",
    "The id will be assigned by the database when you commit the session.\n",
    "\n",
    "In this case, None allows the id field to be empty initially, and only once the object is committed to the database, will the id be automatically populated.\n",
    "\n"
   ]
  },
  {
   "cell_type": "markdown",
   "id": "fbd05ea7",
   "metadata": {},
   "source": [
    "# Deleting in Relationship\n",
    "\n",
    "1. in Python code --> cascade_delete = True --> Relationship Attribute\n",
    "\n",
    "2. in the Database --> ondelete = \"CASCADE\" --> Foreign Key Inside Field\n",
    "\n",
    "---\n",
    "1. CASCADE \n",
    "2. SET NULLL\n",
    "3. RESTRICT"
   ]
  },
  {
   "cell_type": "markdown",
   "id": "74bcdf90",
   "metadata": {},
   "source": []
  }
 ],
 "metadata": {
  "language_info": {
   "name": "python"
  }
 },
 "nbformat": 4,
 "nbformat_minor": 5
}
