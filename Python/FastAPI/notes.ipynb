{
 "cells": [
  {
   "cell_type": "markdown",
   "id": "c362ea14",
   "metadata": {},
   "source": [
    "# FastAPI\n",
    "## A modern, fast, high performance web framework for building APIs with Python\n",
    "\n",
    "1. A python framework for building APIs.\n",
    "2. Built on standards: OpenAPI(docs) and JSON Schema(data validation)\n",
    "3. High Peformance\n",
    "4. Automatic interactive Docs via Swagger UI and ReDoc\n",
    "\n",
    "# Why FastAPI?\n",
    "2. Auto-generated docs\n",
    "3. Asynchronous support\n",
    "4. Developer-friendly\n"
   ]
  },
  {
   "cell_type": "markdown",
   "id": "95b7eaf1",
   "metadata": {},
   "source": [
    "# Installation\n",
    "\n",
    "1. pip install fastapi uvicorn - Includes additional features\n",
    "2. pip install fastapi[standard]\n",
    "\n",
    "# Run the file\n",
    "  command :  `fastapi dev file_name`"
   ]
  },
  {
   "cell_type": "markdown",
   "id": "3848cde0",
   "metadata": {},
   "source": [
    "---\n",
    "# Path Parameters and Query Parameters\n",
    "\n",
    "Path Parameters =  Used when you are directly accessing something(user/1/posts/99)\n",
    "\n",
    "Query parameters = Used to filter, sort, customize the result (/books?author=Rowling)"
   ]
  },
  {
   "cell_type": "markdown",
   "id": "1c9bc2cd",
   "metadata": {},
   "source": [
    "---\n",
    "1. @app.<method>(\"<path>\")\n",
    "\n",
    "HTTP method : GET, POST, PUT , DELETE\n"
   ]
  },
  {
   "cell_type": "markdown",
   "id": "69a2cd90",
   "metadata": {},
   "source": [
    "---\n",
    "# Key Features\n",
    "1. Speed: Starlette & Pydantic\n",
    "2. Ease of use\n",
    "3. Automatic documentaion"
   ]
  },
  {
   "cell_type": "markdown",
   "id": "47023939",
   "metadata": {},
   "source": [
    "---\n",
    "# Asynchronous programming / Concurrent Programming\n",
    "\n",
    "In Asynchronous programming tasks are executed simultaneously without blocking the execution of other tasks\n",
    "\n",
    "Syntax :  async/await"
   ]
  },
  {
   "cell_type": "markdown",
   "id": "b2f9c56f",
   "metadata": {},
   "source": [
    "---\n",
    " Endpoints: are points at which API interactions happen"
   ]
  },
  {
   "cell_type": "markdown",
   "id": "456385f3",
   "metadata": {},
   "source": [
    "---\n",
    "# Routers\n",
    "used to handle mutliple endpoints which are in different files\n",
    "\n",
    "\n"
   ]
  },
  {
   "cell_type": "markdown",
   "id": "083f6c0b",
   "metadata": {},
   "source": [
    "---\n",
    "# Create a basic draft of a backend service for a bookstore\n",
    "\n",
    "\n",
    "\n"
   ]
  },
  {
   "cell_type": "markdown",
   "id": "daf1233d",
   "metadata": {},
   "source": [
    "---\n",
    "# Request Model\n",
    "\n",
    "# Response Model\n",
    "\n",
    "1. Strcuctured\n",
    "2. Validated\n",
    "3. Clearlu defined\n",
    "\n",
    "\n"
   ]
  },
  {
   "cell_type": "markdown",
   "id": "bf01df29",
   "metadata": {},
   "source": [
    "---\n",
    " Pydantic Models are a powerful feature for data validation and conversion"
   ]
  },
  {
   "cell_type": "markdown",
   "id": "a082912b",
   "metadata": {},
   "source": [
    "# Steps of Creating Request Response Model\n",
    "1. Creating the Model\n",
    "2. Define the request body\n",
    "3. Validate request data\n",
    "4. Manage response formats"
   ]
  },
  {
   "cell_type": "markdown",
   "id": "2d887991",
   "metadata": {},
   "source": [
    "# Working with Data\n",
    "\n",
    "## Data Handling\n",
    "\n"
   ]
  },
  {
   "cell_type": "markdown",
   "id": "0a53e7f7",
   "metadata": {},
   "source": [
    "# Build a user management API using FastAPI + SQLModel\n",
    "\n",
    "Create a basic API using FastAPI and SQLModel that allows you to perform CRUD operations on a User table\n",
    "\n",
    "1.database.py\n",
    "2.models.py\n",
    "3.main.py\n",
    "\n",
    "\n",
    "### 1. Define User Model Set Up the Database\n",
    "### 2. Initialize FastAPI\n",
    "### 3. CRUD Operations (Add a User) etc\n",
    "### 4. Get user by id, Update a U\n",
    "\n"
   ]
  },
  {
   "cell_type": "markdown",
   "id": "69a92d55",
   "metadata": {},
   "source": [
    "# Restful API's\n",
    "\n",
    "Representational State Transfer API (Application programming Interface)\n",
    "\n",
    "    (HTTP Request)\n",
    "    (GET, PUT, POST, DELETE)\n",
    "\n",
    "client ----------------------------> server\n",
    "\n",
    "client <---------------------------- server (JSON Response)\n",
    "\n"
   ]
  },
  {
   "cell_type": "markdown",
   "id": "af7c48ff",
   "metadata": {},
   "source": [
    "1. Stateless\n",
    "2. Client - server Architecture\n",
    "3. Cacheable\n",
    "4. Uniform Interface\n",
    "5. Layered System"
   ]
  },
  {
   "cell_type": "markdown",
   "id": "f4968738",
   "metadata": {},
   "source": [
    "# Task Manager Application\n"
   ]
  },
  {
   "cell_type": "markdown",
   "id": "0cc3bdee",
   "metadata": {},
   "source": []
  }
 ],
 "metadata": {
  "language_info": {
   "name": "python"
  }
 },
 "nbformat": 4,
 "nbformat_minor": 5
}
