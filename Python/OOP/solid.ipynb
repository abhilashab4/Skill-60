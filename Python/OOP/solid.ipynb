{
 "cells": [
  {
   "cell_type": "markdown",
   "metadata": {},
   "source": [
    "### Liskov (LSP)"
   ]
  },
  {
   "cell_type": "code",
   "execution_count": 2,
   "metadata": {},
   "outputs": [
    {
     "name": "stdout",
     "output_type": "stream",
     "text": [
      "Shape: Rectangle, Area: 50\n",
      "Shape: Square, Area: 25\n"
     ]
    }
   ],
   "source": [
    "from abc import ABC, abstractmethod\n",
    "\n",
    "class Shape(ABC):\n",
    "    @abstractmethod\n",
    "    def calculate_area(self):\n",
    "        pass\n",
    "\n",
    "class Rectangle(Shape):\n",
    "    def __init__(self, width, height):\n",
    "        self.width = width\n",
    "        self.height = height\n",
    "\n",
    "    def calculate_area(self):\n",
    "        return self.width * self.height\n",
    "    \n",
    "class Square(Shape):\n",
    "    def __init__(self, size):\n",
    "        self.size = size\n",
    "\n",
    "    def calculate_area(self):\n",
    "        return self.size ** 2\n",
    "    \n",
    "\n",
    "def print_shape_area(shape : Shape):\n",
    "    print(f'Shape: {shape.__class__.__name__}, Area: {shape.calculate_area()}')\n",
    "\n",
    "rectangle = Rectangle(10, 5)\n",
    "square = Square(5)\n",
    "\n",
    "print_shape_area(rectangle)\n",
    "print_shape_area(square)\n"
   ]
  },
  {
   "cell_type": "markdown",
   "metadata": {},
   "source": [
    "### *Interface segregation principle(ISP)*\n",
    "\n",
    " a class shouldn't be forced to inherit and implement method that are irrelevant to its purpose\n"
   ]
  },
  {
   "cell_type": "code",
   "execution_count": null,
   "metadata": {},
   "outputs": [],
   "source": [
    "from abc import ABC, abstractmethod\n",
    "# Interface Segregation Principle (ISP)\n",
    "\n",
    "#NOT IDEAL\n",
    "\n",
    "class Printer(ABC):\n",
    "    @abstractmethod\n",
    "    def print_document(self):\n",
    "        print(\"Printing\")\n",
    "    @abstractmethod\n",
    "    def scan_document(self):\n",
    "        print(\"Scanning\")\n",
    "    @abstractmethod\n",
    "    def fax_document(self):\n",
    "        print(\"Faxing\")\n",
    "\n",
    "class SimplePrinter(Printer):\n",
    "    def print_document(self):\n",
    "        print(\"Printing\")\n",
    "    \n",
    "    def scan_document(self):\n",
    "        raise NotImplementedError(\"This printer cannot scan\")\n",
    "\n",
    "    def fax_document(self):\n",
    "        raise NotImplementedError(\"This printer cannot fax\")\n",
    "    \n",
    "    \n"
   ]
  },
  {
   "cell_type": "code",
   "execution_count": null,
   "metadata": {},
   "outputs": [],
   "source": [
    "from abc import ABC, abstractmethod\n",
    "\n",
    "class Printer(ABC):\n",
    "    @abstractmethod\n",
    "    def print_document(self):\n",
    "        pass\n",
    "\n",
    "class Scanner(ABC):\n",
    "    @abstractmethod\n",
    "    def scan_document(self):\n",
    "        pass\n",
    "\n",
    "class Fax(ABC):\n",
    "    @abstractmethod\n",
    "    def fax_document(self):\n",
    "        pass\n",
    "\n",
    "class AllInOnePrinter(Printer, Scanner, Fax):\n",
    "    def print_document(self):\n",
    "        print(\"Printing\")\n",
    "    \n",
    "    def scan_document(self):\n",
    "        print(\"Scanning\")\n",
    "\n",
    "    def fax_document(self):\n",
    "        print(\"Faxing\")\n",
    "\n",
    "class SimplePrineter(Printer):\n",
    "    def print_document(self):\n",
    "        print(\"Printing\")\n",
    "\n",
    "#Here we do not need to implement the other methods, as they are not required for this class.\n"
   ]
  },
  {
   "cell_type": "markdown",
   "metadata": {},
   "source": [
    "### *Dependency Inversion Principle (DIP)*\n",
    "\n",
    "> 1. High-level modules should not directly depend on low-level modules.  \n",
    "> 2. Both should depend on abstractions.  \n",
    "> 3. Abstractions should not depend on details; details should depend on abstractions.\n"
   ]
  },
  {
   "cell_type": "code",
   "execution_count": null,
   "metadata": {},
   "outputs": [],
   "source": [
    "\n",
    "#NOT IDEAL\n",
    "\n",
    "#Low-Level Module\n",
    "class Email:\n",
    "    def send_email(self):\n",
    "        print(\"Sending email\")\n",
    "\n",
    "#High-Level Module\n",
    "#This module should not depend on the low-level module directly.\n",
    "class Notification:\n",
    "    def __init__(self):\n",
    "        self.email = Email() #Direct Dependency\n",
    "\n",
    "    def send_notification(self):\n",
    "        self.email.send_email() #Tightly Coupled\n"
   ]
  },
  {
   "cell_type": "code",
   "execution_count": 3,
   "metadata": {},
   "outputs": [
    {
     "name": "stdout",
     "output_type": "stream",
     "text": [
      "Sending email: This is just a message\n"
     ]
    }
   ],
   "source": [
    "from abc import ABC, abstractmethod\n",
    "\n",
    "class MessageSender(ABC):\n",
    "    @abstractmethod\n",
    "    def send(self, message):\n",
    "        pass\n",
    "\n",
    "class Email(MessageSender):\n",
    "    def send(self, message):\n",
    "        print(f\"Sending email: {message}\")\n",
    "\n",
    "class Notification:\n",
    "    def __init__(self, sender: MessageSender):\n",
    "        self.sender = sender\n",
    "\n",
    "    def send(self, message):\n",
    "        self.sender.send(message)\n",
    "\n",
    "email = Email()\n",
    "notif = Notification(sender=email)\n",
    "notif.send(message=\"This is just a message\")\n"
   ]
  }
 ],
 "metadata": {
  "kernelspec": {
   "display_name": "Python 3",
   "language": "python",
   "name": "python3"
  },
  "language_info": {
   "codemirror_mode": {
    "name": "ipython",
    "version": 3
   },
   "file_extension": ".py",
   "mimetype": "text/x-python",
   "name": "python",
   "nbconvert_exporter": "python",
   "pygments_lexer": "ipython3",
   "version": "3.13.1"
  }
 },
 "nbformat": 4,
 "nbformat_minor": 2
}
