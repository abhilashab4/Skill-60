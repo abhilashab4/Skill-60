{
 "cells": [
  {
   "cell_type": "markdown",
   "id": "0b5c8a42",
   "metadata": {},
   "source": [
    "1. Pure Functions:\n",
    " - It always produces the same output for the same arguments\n",
    " - It does not change or modifies the input variable\n",
    "\n"
   ]
  },
  {
   "cell_type": "code",
   "execution_count": null,
   "id": "b1f96362",
   "metadata": {},
   "outputs": [],
   "source": [
    "# ✓ Write a function operate that takes two numbers and a function as arguments, then applies the function to the numbers\n",
    "\n",
    "# Test it with a function that multiplies two numbers\n",
    "\n",
    "\n",
    "def operate(x,y,func):\n",
    "    return func(x,y)\n",
    "\n",
    "def multiply(a,b):\n",
    "    return a*b\n",
    "\n",
    "print(operate(3,4,multiply))"
   ]
  },
  {
   "cell_type": "markdown",
   "id": "cfce7d7e",
   "metadata": {},
   "source": [
    "4. Functions can be Higher-order:\n",
    "\n",
    "Takes one or more functions as arguments\n",
    "\n",
    "Returns a function as its result\n",
    "\n",
    "Types of Higher-order Functions:\n",
    "\n",
    "Functions that take other functions as arguments:\n",
    "- map\n",
    "- filter\n",
    "- reduce\n",
    "\n",
    "\n"
   ]
  },
  {
   "cell_type": "code",
   "execution_count": 3,
   "id": "eaa63c50",
   "metadata": {},
   "outputs": [
    {
     "name": "stdout",
     "output_type": "stream",
     "text": [
      "[1, 4, 9, 16, 25]\n"
     ]
    }
   ],
   "source": [
    "def square(x):\n",
    "    return x * x\n",
    "\n",
    "numbers = [1, 2, 3, 4, 5]\n",
    "squared_number = list(map(square, numbers))\n",
    "print(squared_number)\n"
   ]
  },
  {
   "cell_type": "code",
   "execution_count": 1,
   "id": "10001101",
   "metadata": {},
   "outputs": [
    {
     "name": "stdout",
     "output_type": "stream",
     "text": [
      "[2, 4, 6]\n"
     ]
    }
   ],
   "source": [
    "def is_even(x):\n",
    "    return x % 2 == 0\n",
    "\n",
    "numbers = [1, 2, 3, 4, 5, 6]\n",
    "even_numbers = list(filter(is_even, numbers))\n",
    "print(even_numbers)\n"
   ]
  },
  {
   "cell_type": "code",
   "execution_count": 2,
   "id": "1b928f6d",
   "metadata": {},
   "outputs": [
    {
     "name": "stdout",
     "output_type": "stream",
     "text": [
      "15\n"
     ]
    }
   ],
   "source": [
    "from functools import reduce\n",
    "\n",
    "def add(x, y):\n",
    "    return x + y\n",
    "\n",
    "numbers = [1, 2, 3, 4, 5]\n",
    "total = reduce(add, numbers)\n",
    "print(total)\n"
   ]
  },
  {
   "cell_type": "markdown",
   "id": "fedc56e9",
   "metadata": {},
   "source": [
    "# 🧠 Functional Programming in Python\n",
    "\n",
    "Functional Programming is a **programming paradigm** that treats computation as the evaluation of mathematical functions and avoids changing-state and mutable data.\n",
    "\n",
    "---\n",
    "\n",
    "## 🔑 Key Concepts\n",
    "\n",
    "### 1. First-Class Functions\n",
    "- Functions are treated like variables.\n",
    "- They can be passed as arguments, returned from other functions, and assigned to variables.\n",
    "\n",
    "---\n",
    "\n",
    "### 2. Higher-Order Functions\n",
    "- Functions that take other functions as arguments or return them as results.\n",
    "- Examples include built-in functions like `map`, `filter`, and `reduce`.\n",
    "\n",
    "---\n",
    "\n",
    "### 3. Pure Functions\n",
    "- A function is pure if:\n",
    "  - Its output depends only on the input.\n",
    "  - It has no side effects (like modifying global variables, files, or user input).\n",
    "\n",
    "---\n",
    "\n",
    "### 4. Immutability\n",
    "- Data is not modified after it is created.\n",
    "- New values are returned instead of changing existing ones.\n",
    "\n",
    "---\n",
    "\n",
    "### 5. Recursion\n",
    "- A function that calls itself.\n",
    "- Used in place of loops in many functional languages.\n",
    "\n",
    "---\n",
    "\n",
    "### 6. Anonymous Functions (Lambdas)\n",
    "- Small, unnamed functions used for short operations.\n",
    "- Often used with higher-order functions.\n",
    "\n",
    "---\n",
    "\n",
    "## ✅ Benefits of Functional Programming\n",
    "- Easier to debug and test.\n",
    "- Promotes cleaner and more predictable code.\n",
    "- Encourages immutability and stateless design.\n",
    "- Ideal for parallel and concurrent computing.\n",
    "\n",
    "---\n"
   ]
  },
  {
   "cell_type": "markdown",
   "id": "e833b933",
   "metadata": {},
   "source": []
  }
 ],
 "metadata": {
  "kernelspec": {
   "display_name": "Python 3",
   "language": "python",
   "name": "python3"
  },
  "language_info": {
   "codemirror_mode": {
    "name": "ipython",
    "version": 3
   },
   "file_extension": ".py",
   "mimetype": "text/x-python",
   "name": "python",
   "nbconvert_exporter": "python",
   "pygments_lexer": "ipython3",
   "version": "3.13.1"
  }
 },
 "nbformat": 4,
 "nbformat_minor": 5
}
