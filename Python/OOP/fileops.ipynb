{
 "cells": [
  {
   "cell_type": "markdown",
   "id": "ffd9082f",
   "metadata": {},
   "source": [
    "Exercise 1: Basic Implementation Task: Write a program that reads 'input.txt' and prints its content in uppercase."
   ]
  },
  {
   "cell_type": "code",
   "execution_count": null,
   "id": "f427c6b6",
   "metadata": {},
   "outputs": [],
   "source": [
    "# Open the file in read mode\n",
    "with open(\"input.txt\", \"r\") as file:\n",
    "    content = file.read()  # Read the file content\n",
    "\n",
    "# Print the content in uppercase\n",
    "print(content.upper())"
   ]
  },
  {
   "cell_type": "markdown",
   "id": "07edf6da",
   "metadata": {},
   "source": [
    "Exercise 2: Intermediate Problem-Solving Task: Read 'students.csv' (format: “Name,Grade” like “John,85”), calculate the average grade, and write it to 'average.txt'. Instructions: Assume two columns: name and grade. Convert grades to integers, compute the average, and save it with a message. Expected Output: 'average.txt' contains “The average grade is 90.5” (or similar). Hint: Use csv.reader and sum the grades with a loop."
   ]
  },
  {
   "cell_type": "code",
   "execution_count": null,
   "id": "1e2298e1",
   "metadata": {},
   "outputs": [],
   "source": [
    "import csv\n",
    "\n",
    "# Read students.csv and calculate the average grade\n",
    "grades = []\n",
    "with open(\"students.csv\", \"r\") as file:\n",
    "    reader = csv.reader(file)\n",
    "    for row in reader:\n",
    "        name, grade = row  # Extract name and grade\n",
    "        grades.append(int(grade))  # Convert grade to integer\n",
    "\n",
    "# Compute the average grade\n",
    "average_grade = sum(grades) / len(grades) if grades else 0\n",
    "\n",
    "# Write the result to average.txt\n",
    "with open(\"average.txt\", \"w\") as file:\n",
    "    file.write(f\"The average grade is {average_grade:.1f}\")\n",
    "\n",
    "print(\"Average grade calculated and written to 'average.txt'.\")"
   ]
  },
  {
   "cell_type": "markdown",
   "id": "0e76e830",
   "metadata": {},
   "source": [
    "Exercise 3: Real-World Challenge\n",
    "Task: Build a logging system that appends timestamped messages to 'app.log' based on user input until they type “exit.”\n",
    " \n",
    "Instructions:\n",
    "Use datetime for timestamps.\n",
    "Format each log entry as “YYYY-MM-DD HH:MM:SS - message.”\n",
    "\n",
    " \n",
    "Expected Behavior: Entering “Started app” adds a line like “2023-10-15 14:30:45 - Started app” to 'app.log'.\n",
    "\n",
    " \n",
    "Hint: Use a while loop and datetime.datetime.now()."
   ]
  },
  {
   "cell_type": "code",
   "execution_count": 1,
   "id": "64a50a9f",
   "metadata": {},
   "outputs": [
    {
     "name": "stdout",
     "output_type": "stream",
     "text": [
      "Log saved: 2025-04-17 08:11:14 - hai\n",
      "Log saved: 2025-04-17 08:11:29 - this is a log message\n",
      "Logging stopped. Check 'app.log' for entries.\n"
     ]
    }
   ],
   "source": [
    "import datetime\n",
    "\n",
    "\n",
    "with open(\"app.log\", \"a\") as log_file:\n",
    "    while True:\n",
    "       \n",
    "        user_input = input(\"Enter a log message (or type 'exit' to stop): \")\n",
    "        \n",
    "       \n",
    "        if user_input.lower() == \"exit\":\n",
    "            print(\"Logging stopped. Check 'app.log' for entries.\")\n",
    "            break\n",
    "        \n",
    "       \n",
    "        timestamp = datetime.datetime.now().strftime(\"%Y-%m-%d %H:%M:%S\")\n",
    "        \n",
    "       \n",
    "        log_entry = f\"{timestamp} - {user_input}\\n\"\n",
    "        \n",
    "       \n",
    "        log_file.write(log_entry)\n",
    "        \n",
    "        \n",
    "        print(\"Log saved:\", log_entry.strip())"
   ]
  }
 ],
 "metadata": {
  "kernelspec": {
   "display_name": "Python 3",
   "language": "python",
   "name": "python3"
  },
  "language_info": {
   "codemirror_mode": {
    "name": "ipython",
    "version": 3
   },
   "file_extension": ".py",
   "mimetype": "text/x-python",
   "name": "python",
   "nbconvert_exporter": "python",
   "pygments_lexer": "ipython3",
   "version": "3.13.1"
  }
 },
 "nbformat": 4,
 "nbformat_minor": 5
}
